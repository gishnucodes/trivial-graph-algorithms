{
 "cells": [
  {
   "metadata": {},
   "cell_type": "markdown",
   "source": "# BFS with Queue ",
   "id": "4ae834e736668046"
  },
  {
   "metadata": {
    "ExecuteTime": {
     "end_time": "2024-09-21T03:22:38.580407Z",
     "start_time": "2024-09-21T03:22:38.572855Z"
    }
   },
   "cell_type": "code",
   "source": [
    "from collections import deque\n",
    "\n",
    "# BFS from given source s\n",
    "def bfs(adj, s):\n",
    "    \n",
    "    visited = [False] * V\n",
    "    # Create a queue for BFS\n",
    "    q = deque()\n",
    "\n",
    "    # Mark the source node as visited and enqueue it\n",
    "    visited[s] = True\n",
    "    q.append(s)\n",
    "\n",
    "    # Iterate over the queue\n",
    "    while q:\n",
    "      \n",
    "        # Dequeue a vertex from queue and print it\n",
    "        curr = q.popleft()\n",
    "        print(curr, end=\" \")\n",
    "\n",
    "        # Get all adjacent vertices of the dequeued \n",
    "        # vertex. If an adjacent has not been visited, \n",
    "        # mark it visited and enqueue it\n",
    "        for x in adj[curr]:\n",
    "            if not visited[x]:\n",
    "                visited[x] = True\n",
    "                q.append(x)\n",
    "\n",
    "# Function to add an edge to the graph\n",
    "def add_edge(adj, u, v):\n",
    "    adj[u].append(v)\n",
    "    adj[v].append(u)\n",
    "\n",
    "# Example usage\n",
    "if __name__ == \"__main__\":\n",
    "  \n",
    "    # Number of vertices in the graph\n",
    "    V = 5\n",
    "\n",
    "    # Adjacency list representation of the graph\n",
    "    adj = [[] for _ in range(V)]\n",
    "\n",
    "    # Add edges to the graph\n",
    "    add_edge(adj, 0, 1)\n",
    "    add_edge(adj, 0, 2)\n",
    "    add_edge(adj, 1, 3)\n",
    "    add_edge(adj, 1, 4)\n",
    "    add_edge(adj, 2, 4)\n",
    "\n",
    "    # Mark all the vertices as not visited\n",
    "    visited = [False] * V\n",
    "\n",
    "    # Perform BFS traversal starting from vertex 0\n",
    "    print(\"BFS starting from 0: \")\n",
    "    bfs(adj, 2)"
   ],
   "id": "8b16b00c449ee295",
   "outputs": [
    {
     "name": "stdout",
     "output_type": "stream",
     "text": [
      "BFS starting from 0: \n",
      "2 0 4 1 3 "
     ]
    }
   ],
   "execution_count": 43
  },
  {
   "metadata": {},
   "cell_type": "markdown",
   "source": "# BFS with Stack ",
   "id": "a50feff170c0c697"
  },
  {
   "metadata": {
    "ExecuteTime": {
     "end_time": "2024-09-21T03:53:20.604709Z",
     "start_time": "2024-09-21T03:53:20.581091Z"
    }
   },
   "cell_type": "code",
   "source": [
    "from collections import deque\n",
    "\n",
    "# BFS from given source s\n",
    "def bfs(adj, s):\n",
    "    \n",
    "    distance_map = {}\n",
    "    visited = [False] * V\n",
    "    # Create a queue for BFS\n",
    "    q = deque()\n",
    "\n",
    "    # Mark the source node as visited and enqueue it\n",
    "    visited[s] = True\n",
    "    q.append(s)\n",
    "\n",
    "    # Iterate over the queue\n",
    "    while q:\n",
    "      \n",
    "        # Dequeue a vertex from queue and print it\n",
    "        curr = q.pop()\n",
    "        print(curr, end=\" \")\n",
    "\n",
    "        # Get all adjacent vertices of the dequeued \n",
    "        # vertex. If an adjacent has not been visited, \n",
    "        # mark it visited and enqueue it\n",
    "        for x in adj[curr]:\n",
    "            if not visited[x]:\n",
    "                visited[x] = True\n",
    "                q.append(x)\n",
    "                distance_map[x] = distance_map.get(curr, 0) + 1\n",
    "    print(distance_map)\n",
    "# Function to add an edge to the graph\n",
    "def add_edge(adj, u, v):\n",
    "    adj[u].append(v)\n",
    "    adj[v].append(u)\n",
    "\n",
    "# Example usage\n",
    "if __name__ == \"__main__\":\n",
    "  \n",
    "    # Number of vertices in the graph\n",
    "    V = 5\n",
    "\n",
    "    # Adjacency list representation of the graph\n",
    "    adj = [[] for _ in range(V)]\n",
    "\n",
    "    # Add edges to the graph\n",
    "    add_edge(adj, 0, 1)\n",
    "    add_edge(adj, 0, 2)\n",
    "    add_edge(adj, 1, 3)\n",
    "    add_edge(adj, 1, 4)\n",
    "    add_edge(adj, 2, 4)\n",
    "\n",
    "    # Mark all the vertices as not visited\n",
    "    visited = [False] * V\n",
    "\n",
    "    # Perform BFS traversal starting from vertex 0\n",
    "    print(\"BFS starting from 0: \")\n",
    "    bfs(adj, 2)"
   ],
   "id": "772440e05487d4ca",
   "outputs": [
    {
     "name": "stdout",
     "output_type": "stream",
     "text": [
      "BFS starting from 0: \n",
      "2 4 1 3 0 {0: 1, 4: 1, 1: 2, 3: 3}\n"
     ]
    }
   ],
   "execution_count": 45
  }
 ],
 "metadata": {
  "kernelspec": {
   "display_name": "Python 3",
   "language": "python",
   "name": "python3"
  },
  "language_info": {
   "codemirror_mode": {
    "name": "ipython",
    "version": 2
   },
   "file_extension": ".py",
   "mimetype": "text/x-python",
   "name": "python",
   "nbconvert_exporter": "python",
   "pygments_lexer": "ipython2",
   "version": "2.7.6"
  }
 },
 "nbformat": 4,
 "nbformat_minor": 5
}
