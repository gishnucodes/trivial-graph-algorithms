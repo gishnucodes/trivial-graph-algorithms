{
 "cells": [
  {
   "cell_type": "code",
   "id": "initial_id",
   "metadata": {
    "collapsed": true,
    "ExecuteTime": {
     "end_time": "2024-09-26T20:24:47.345910Z",
     "start_time": "2024-09-26T20:24:47.337902Z"
    }
   },
   "source": [
    "import heapq\n",
    "\n",
    "def create_heap(numbers):\n",
    "    \"\"\"\n",
    "    Creates a heap from a list of numbers.\n",
    "\n",
    "    Args:\n",
    "        numbers: A list of numbers.\n",
    "\n",
    "    Returns:\n",
    "        A heap created from the input list.\n",
    "    \"\"\"\n",
    "\n",
    "    heap = []\n",
    "    for num in numbers:\n",
    "        heapq.heappush(heap, num)\n",
    "    return heap\n",
    "\n",
    "# Example usage:\n",
    "numbers = [5, 3, 8, 2, 1, 9]\n",
    "heap = create_heap(numbers)\n",
    "print(heap)"
   ],
   "outputs": [
    {
     "name": "stdout",
     "output_type": "stream",
     "text": [
      "[1, 2, 8, 5, 3, 9]\n"
     ]
    }
   ],
   "execution_count": 1
  },
  {
   "metadata": {},
   "cell_type": "code",
   "outputs": [],
   "execution_count": null,
   "source": "",
   "id": "807092b722e4368c"
  }
 ],
 "metadata": {
  "kernelspec": {
   "display_name": "Python 3",
   "language": "python",
   "name": "python3"
  },
  "language_info": {
   "codemirror_mode": {
    "name": "ipython",
    "version": 2
   },
   "file_extension": ".py",
   "mimetype": "text/x-python",
   "name": "python",
   "nbconvert_exporter": "python",
   "pygments_lexer": "ipython2",
   "version": "2.7.6"
  }
 },
 "nbformat": 4,
 "nbformat_minor": 5
}
