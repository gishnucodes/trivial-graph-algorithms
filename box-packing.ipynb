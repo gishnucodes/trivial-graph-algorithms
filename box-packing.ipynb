{
 "cells": [
  {
   "metadata": {},
   "cell_type": "markdown",
   "source": "### Box packing ",
   "id": "707ffed8fefc1f87"
  },
  {
   "metadata": {
    "collapsed": true,
    "ExecuteTime": {
     "end_time": "2024-09-25T04:09:27.807849Z",
     "start_time": "2024-09-25T04:09:27.801430Z"
    }
   },
   "cell_type": "code",
   "source": [
    "box = [12,44,55,66,34,76,7,99,66,43]\n",
    "item = [3,5,7,9,22,66,44,99]"
   ],
   "id": "initial_id",
   "outputs": [],
   "execution_count": 22
  },
  {
   "metadata": {
    "ExecuteTime": {
     "end_time": "2024-09-25T04:13:28.979569Z",
     "start_time": "2024-09-25T04:13:28.972197Z"
    }
   },
   "cell_type": "code",
   "source": [
    "box_len = len(box)\n",
    "item_len = len(item)   \n",
    "print(f\"item length {item_len}\")\n",
    "print(f\"box length {box_len}\")"
   ],
   "id": "ad00b5354e76989e",
   "outputs": [
    {
     "name": "stdout",
     "output_type": "stream",
     "text": [
      "item length 8\n",
      "box length 10\n"
     ]
    }
   ],
   "execution_count": 34
  },
  {
   "metadata": {
    "ExecuteTime": {
     "end_time": "2024-09-25T04:10:19.161758Z",
     "start_time": "2024-09-25T04:10:19.156876Z"
    }
   },
   "cell_type": "code",
   "source": [
    "box = sorted(box)\n",
    "item = sorted(item)\n",
    "print(box)\n",
    "print(item)"
   ],
   "id": "e94404378c17f3aa",
   "outputs": [
    {
     "name": "stdout",
     "output_type": "stream",
     "text": [
      "[7, 12, 34, 43, 44, 55, 66, 66, 76, 99]\n",
      "[3, 5, 7, 9, 22, 44, 66, 99]\n"
     ]
    }
   ],
   "execution_count": 29
  },
  {
   "metadata": {
    "ExecuteTime": {
     "end_time": "2024-09-25T04:12:36.481406Z",
     "start_time": "2024-09-25T04:12:36.474011Z"
    }
   },
   "cell_type": "code",
   "source": [
    "# j=0\n",
    "# i=0\n",
    "# while i<n:\n",
    "#     print(i)\n",
    "#     if item[i]<=box[j]:\n",
    "#         print(f\"Item {i} in Box {j}\",item[i],box[j])\n",
    "#         j+=1\n",
    "#     elif item[i]>box[j]:\n",
    "#         j+=1\n",
    "#     i+=1"
   ],
   "id": "fab0b38cb84e4a0a",
   "outputs": [
    {
     "name": "stdout",
     "output_type": "stream",
     "text": [
      "0\n",
      "Item 0 in Box 0 3 7\n",
      "1\n",
      "Item 1 in Box 1 5 12\n",
      "2\n",
      "Item 2 in Box 2 7 34\n",
      "3\n",
      "Item 3 in Box 3 9 43\n",
      "4\n",
      "Item 4 in Box 4 22 44\n",
      "5\n",
      "Item 5 in Box 5 44 55\n",
      "6\n",
      "Item 6 in Box 6 66 66\n",
      "7\n"
     ]
    }
   ],
   "execution_count": 33
  },
  {
   "metadata": {
    "ExecuteTime": {
     "end_time": "2024-09-25T04:15:23.885294Z",
     "start_time": "2024-09-25T04:15:23.875909Z"
    }
   },
   "cell_type": "code",
   "source": [
    "j=0\n",
    "i=0\n",
    "\n",
    "for i in range(item_len):\n",
    "    for j in range(box_len):\n",
    "        if item[i] <= box[j]:\n",
    "            print(f\"Item {i} in Box {j}\",item[i],box[j])\n",
    "            break\n",
    "        else:\n",
    "            continue"
   ],
   "id": "1ec78cc62cff6dc9",
   "outputs": [
    {
     "name": "stdout",
     "output_type": "stream",
     "text": [
      "Item 0 in Box 0 3 7\n",
      "Item 1 in Box 0 5 7\n",
      "Item 2 in Box 0 7 7\n",
      "Item 3 in Box 1 9 12\n",
      "Item 4 in Box 2 22 34\n",
      "Item 5 in Box 4 44 44\n",
      "Item 6 in Box 6 66 66\n",
      "Item 7 in Box 9 99 99\n"
     ]
    }
   ],
   "execution_count": 35
  },
  {
   "metadata": {
    "ExecuteTime": {
     "end_time": "2024-09-25T04:38:45.797130Z",
     "start_time": "2024-09-25T04:38:45.785214Z"
    }
   },
   "cell_type": "code",
   "source": [
    "box = [12, 44, 55, 66, 34, 76, 7, 99, 66, 43]\n",
    "item = [3, 5, 7, 9, 22, 66, 44, 99]"
   ],
   "id": "3ab570211269b212",
   "outputs": [],
   "execution_count": 36
  },
  {
   "metadata": {
    "ExecuteTime": {
     "end_time": "2024-09-25T04:48:24.476230Z",
     "start_time": "2024-09-25T04:48:24.426551Z"
    }
   },
   "cell_type": "code",
   "source": [
    "count=0\n",
    "i=0\n",
    "j=0\n",
    "box = [12, 44, 55, 66, 34, 76, 7, 99, 66, 43]\n",
    "item = [3, 5, 7, 9, 22, 66, 44, 99]\n",
    "while count < len(box) and count < len(item):\n",
    "    \n",
    "    max_item = max(item)\n",
    "    \n",
    "    if max_item <= box[i]:\n",
    "        print(f\"Item {max_item} in {box[i]}\")\n",
    "        item.remove(max_item)\n",
    "        i+=1\n",
    "        count+=1\n",
    "    else:\n",
    "        i+=1\n",
    "    \n",
    "        \n",
    "        "
   ],
   "id": "f9fad3bcd5ef5a9f",
   "outputs": [
    {
     "name": "stdout",
     "output_type": "stream",
     "text": [
      "Item 99 in 99\n",
      "Item 66 in 66\n"
     ]
    },
    {
     "ename": "IndexError",
     "evalue": "list index out of range",
     "output_type": "error",
     "traceback": [
      "\u001B[1;31m---------------------------------------------------------------------------\u001B[0m",
      "\u001B[1;31mIndexError\u001B[0m                                Traceback (most recent call last)",
      "\u001B[1;32m<ipython-input-44-cdb4531d669e>\u001B[0m in \u001B[0;36m<module>\u001B[1;34m\u001B[0m\n\u001B[0;32m      8\u001B[0m     \u001B[0mmax_item\u001B[0m \u001B[1;33m=\u001B[0m \u001B[0mmax\u001B[0m\u001B[1;33m(\u001B[0m\u001B[0mitem\u001B[0m\u001B[1;33m)\u001B[0m\u001B[1;33m\u001B[0m\u001B[1;33m\u001B[0m\u001B[0m\n\u001B[0;32m      9\u001B[0m \u001B[1;33m\u001B[0m\u001B[0m\n\u001B[1;32m---> 10\u001B[1;33m     \u001B[1;32mif\u001B[0m \u001B[0mmax_item\u001B[0m \u001B[1;33m<=\u001B[0m \u001B[0mbox\u001B[0m\u001B[1;33m[\u001B[0m\u001B[0mi\u001B[0m\u001B[1;33m]\u001B[0m\u001B[1;33m:\u001B[0m\u001B[1;33m\u001B[0m\u001B[1;33m\u001B[0m\u001B[0m\n\u001B[0m\u001B[0;32m     11\u001B[0m         \u001B[0mprint\u001B[0m\u001B[1;33m(\u001B[0m\u001B[1;34mf\"Item {max_item} in {box[i]}\"\u001B[0m\u001B[1;33m)\u001B[0m\u001B[1;33m\u001B[0m\u001B[1;33m\u001B[0m\u001B[0m\n\u001B[0;32m     12\u001B[0m         \u001B[0mitem\u001B[0m\u001B[1;33m.\u001B[0m\u001B[0mremove\u001B[0m\u001B[1;33m(\u001B[0m\u001B[0mmax_item\u001B[0m\u001B[1;33m)\u001B[0m\u001B[1;33m\u001B[0m\u001B[1;33m\u001B[0m\u001B[0m\n",
      "\u001B[1;31mIndexError\u001B[0m: list index out of range"
     ]
    }
   ],
   "execution_count": 44
  },
  {
   "metadata": {
    "ExecuteTime": {
     "end_time": "2024-09-25T05:35:20.011369Z",
     "start_time": "2024-09-25T05:35:19.990044Z"
    }
   },
   "cell_type": "code",
   "source": [
    "def greedy_box_packing(items):\n",
    "  \"\"\"\n",
    "  Implements a greedy algorithm for box packing.\n",
    "\n",
    "  Args:\n",
    "    items: A list of item sizes.\n",
    "\n",
    "  Returns:\n",
    "    A list of boxes, where each box is a list of item indices.\n",
    "  \"\"\"\n",
    "\n",
    "  boxes = []\n",
    "  for item in items:\n",
    "    for box in boxes:\n",
    "      if item <= box[-1]:\n",
    "        box.append(item)\n",
    "        break\n",
    "    else:\n",
    "      boxes.append([item])\n",
    "\n",
    "  return boxes\n",
    "\n",
    "# Example usage:\n",
    "items = [5, 3, 7, 2, 8, 4, 1]\n",
    "boxes = greedy_box_packing(items)\n",
    "print(boxes)"
   ],
   "id": "6c0b63d6facff385",
   "outputs": [
    {
     "name": "stdout",
     "output_type": "stream",
     "text": [
      "[[5, 3, 2, 1], [7, 4], [8]]\n"
     ]
    }
   ],
   "execution_count": 59
  }
 ],
 "metadata": {
  "kernelspec": {
   "display_name": "Python 3",
   "language": "python",
   "name": "python3"
  },
  "language_info": {
   "codemirror_mode": {
    "name": "ipython",
    "version": 2
   },
   "file_extension": ".py",
   "mimetype": "text/x-python",
   "name": "python",
   "nbconvert_exporter": "python",
   "pygments_lexer": "ipython2",
   "version": "2.7.6"
  }
 },
 "nbformat": 4,
 "nbformat_minor": 5
}
