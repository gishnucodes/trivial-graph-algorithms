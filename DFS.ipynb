{
 "cells": [
  {
   "cell_type": "code",
   "id": "initial_id",
   "metadata": {
    "collapsed": true,
    "ExecuteTime": {
     "end_time": "2024-09-21T11:55:56.003459Z",
     "start_time": "2024-09-21T11:55:55.998577Z"
    }
   },
   "source": [
    "lst = []\n",
    "def dfs(adj,s):\n",
    "    lst.append(s)\n",
    "    visited = [False]*len(adj)\n",
    "    visited =  recursive_dfs(adj,s,visited)\n",
    "    "
   ],
   "outputs": [],
   "execution_count": 14
  },
  {
   "metadata": {
    "ExecuteTime": {
     "end_time": "2024-09-21T11:55:57.138746Z",
     "start_time": "2024-09-21T11:55:57.133963Z"
    }
   },
   "cell_type": "code",
   "source": [
    "def recursive_dfs(adj,v,visited):\n",
    "    visited[v] = True\n",
    "    print(v,end=\" \")\n",
    "    for x in adj[v]:\n",
    "        if not visited[x]:\n",
    "            lst.append(x)\n",
    "            visited = recursive_dfs(adj,x,visited)\n",
    "    return visited\n",
    "        "
   ],
   "id": "e027c41d1c255c42",
   "outputs": [],
   "execution_count": 15
  },
  {
   "metadata": {
    "ExecuteTime": {
     "end_time": "2024-09-21T11:57:42.162232Z",
     "start_time": "2024-09-21T11:57:42.155713Z"
    }
   },
   "cell_type": "code",
   "source": [
    "V = 5\n",
    "\n",
    "def add_edge(adj, u, v):\n",
    "    adj[u].append(v)\n",
    "    adj[v].append(u)\n",
    "    # Adjacency list representation of the graph\n",
    "adj = [[] for _ in range(V)]\n",
    "\n",
    "    # Add edges to the graph\n",
    "add_edge(adj, 0, 1)\n",
    "add_edge(adj, 0, 2)\n",
    "add_edge(adj, 1, 3)\n",
    "add_edge(adj, 1, 4)\n",
    "add_edge(adj, 2, 4)\n",
    "\n",
    "dfs(adj, 2)"
   ],
   "id": "e6ef49f6db1aa9bd",
   "outputs": [
    {
     "name": "stdout",
     "output_type": "stream",
     "text": [
      "2 0 1 3 4 "
     ]
    }
   ],
   "execution_count": 17
  }
 ],
 "metadata": {
  "kernelspec": {
   "display_name": "Python 3",
   "language": "python",
   "name": "python3"
  },
  "language_info": {
   "codemirror_mode": {
    "name": "ipython",
    "version": 2
   },
   "file_extension": ".py",
   "mimetype": "text/x-python",
   "name": "python",
   "nbconvert_exporter": "python",
   "pygments_lexer": "ipython2",
   "version": "2.7.6"
  }
 },
 "nbformat": 4,
 "nbformat_minor": 5
}
