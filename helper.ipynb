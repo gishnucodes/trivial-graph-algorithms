{
 "cells": [
  {
   "cell_type": "code",
   "id": "initial_id",
   "metadata": {
    "collapsed": true,
    "ExecuteTime": {
     "end_time": "2024-09-21T16:53:39.803537Z",
     "start_time": "2024-09-21T16:53:39.797994Z"
    }
   },
   "source": [
    "x = \"00000000000000000000000000000000\"\n",
    "count=0\n",
    "for value in x:\n",
    "    count+=1\n",
    "\n",
    "print(count)"
   ],
   "outputs": [
    {
     "name": "stdout",
     "output_type": "stream",
     "text": [
      "32\n"
     ]
    }
   ],
   "execution_count": 2
  },
  {
   "metadata": {
    "ExecuteTime": {
     "end_time": "2024-09-22T22:42:58.696935Z",
     "start_time": "2024-09-22T22:42:58.692047Z"
    }
   },
   "cell_type": "code",
   "source": [
    "z = zip(\"vganrtmixehyblqupc\",\"ABCEGHILOPRTWYSNDM\")\n",
    "\n",
    "for i in z:\n",
    "    print(i)"
   ],
   "id": "f3a6790ec2ce9ba9",
   "outputs": [
    {
     "name": "stdout",
     "output_type": "stream",
     "text": [
      "('v', 'A')\n",
      "('g', 'B')\n",
      "('a', 'C')\n",
      "('n', 'E')\n",
      "('r', 'G')\n",
      "('t', 'H')\n",
      "('m', 'I')\n",
      "('i', 'L')\n",
      "('x', 'O')\n",
      "('e', 'P')\n",
      "('h', 'R')\n",
      "('y', 'T')\n",
      "('b', 'W')\n",
      "('l', 'Y')\n",
      "('q', 'S')\n",
      "('u', 'N')\n",
      "('p', 'D')\n",
      "('c', 'M')\n"
     ]
    }
   ],
   "execution_count": 4
  }
 ],
 "metadata": {
  "kernelspec": {
   "display_name": "Python 3",
   "language": "python",
   "name": "python3"
  },
  "language_info": {
   "codemirror_mode": {
    "name": "ipython",
    "version": 2
   },
   "file_extension": ".py",
   "mimetype": "text/x-python",
   "name": "python",
   "nbconvert_exporter": "python",
   "pygments_lexer": "ipython2",
   "version": "2.7.6"
  }
 },
 "nbformat": 4,
 "nbformat_minor": 5
}
