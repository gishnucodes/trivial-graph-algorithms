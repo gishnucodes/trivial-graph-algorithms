{
 "cells": [
  {
   "cell_type": "code",
   "id": "initial_id",
   "metadata": {
    "collapsed": true,
    "ExecuteTime": {
     "end_time": "2024-09-27T02:31:29.616346Z",
     "start_time": "2024-09-27T02:31:29.607342Z"
    }
   },
   "source": [
    "from collections import deque\n",
    "\n",
    "# BFS from given source s\n",
    "def bfs(adj, s):\n",
    "    \n",
    "    visited = [False] * V\n",
    "    color = [0]*V\n",
    "    # Create a queue for BFS\n",
    "    q = deque()\n",
    "\n",
    "    # Mark the source node as visited and enqueue it\n",
    "    visited[s] = True\n",
    "    q.append(s)\n",
    "\n",
    "    # Iterate over the queue\n",
    "    while q:\n",
    "      \n",
    "        # Dequeue a vertex from queue and print it\n",
    "        curr = q.popleft()\n",
    "        print(curr, end=\" \")\n",
    "\n",
    "        # Get all adjacent vertices of the dequeued \n",
    "        # vertex. If an adjacent has not been visited, \n",
    "        # mark it visited and enqueue it\n",
    "        for x in adj[curr]:\n",
    "            if not visited[x]:\n",
    "                visited[x] = True\n",
    "                q.append(x)\n",
    "                color[x] = 1-color[curr]\n",
    "            elif color[x] == color[curr]:\n",
    "                print(\"G not biparite\")\n",
    "                q.clear()\n",
    "                break\n",
    "                \n",
    "                \n",
    "\n",
    "# Function to add an edge to the graph\n",
    "def add_edge(adj, u, v):\n",
    "    adj[u].append(v)\n",
    "    adj[v].append(u)\n",
    "\n",
    "# Example usage\n",
    "if __name__ == \"__main__\":\n",
    "  \n",
    "    # Number of vertices in the graph\n",
    "    V = 5\n",
    "\n",
    "    # Adjacency list representation of the graph\n",
    "    adj = [[] for _ in range(V)]\n",
    "\n",
    "    # Add edges to the graph\n",
    "    add_edge(adj, 0, 1)\n",
    "    add_edge(adj, 0, 2)\n",
    "    add_edge(adj, 1,3)\n",
    "    add_edge(adj, 2, 3)\n",
    "    \n",
    "    # Mark all the vertices as not visited\n",
    "    visited = [False] * V\n",
    "    \n",
    "    # Perform BFS traversal starting from vertex 0\n",
    "    print(\"BFS starting from 0: \")\n",
    "    bfs(adj, 2)"
   ],
   "outputs": [
    {
     "name": "stdout",
     "output_type": "stream",
     "text": [
      "BFS starting from 0: \n",
      "2 0 3 1 "
     ]
    }
   ],
   "execution_count": 6
  },
  {
   "metadata": {},
   "cell_type": "code",
   "outputs": [],
   "execution_count": null,
   "source": "",
   "id": "548bf44c64bcd0fc"
  }
 ],
 "metadata": {
  "kernelspec": {
   "display_name": "Python 3",
   "language": "python",
   "name": "python3"
  },
  "language_info": {
   "codemirror_mode": {
    "name": "ipython",
    "version": 2
   },
   "file_extension": ".py",
   "mimetype": "text/x-python",
   "name": "python",
   "nbconvert_exporter": "python",
   "pygments_lexer": "ipython2",
   "version": "2.7.6"
  }
 },
 "nbformat": 4,
 "nbformat_minor": 5
}
